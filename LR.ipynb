{
 "cells": [
  {
   "cell_type": "markdown",
   "metadata": {},
   "source": [
    "# Logistic Regression"
   ]
  },
  {
   "cell_type": "code",
   "execution_count": 1,
   "metadata": {},
   "outputs": [],
   "source": [
    "import optuna\n",
    "from sklearn.linear_model import LogisticRegression\n",
    "from utils.preprocessing import *\n",
    "from utils.visualization import *\n",
    "from utils.trainer import *\n",
    "from utils.helpers import *\n",
    "from utils.config import *"
   ]
  },
  {
   "cell_type": "code",
   "execution_count": 2,
   "metadata": {},
   "outputs": [],
   "source": [
    "model_name       = 'lr'\n",
    "best_params_path = paths[model_name]['best_params']\n",
    "model_path_list  = paths[model_name]['models']\n",
    "pred_5folds_path = paths[model_name]['pred_5folds']\n",
    "shap_fi_path     = paths[model_name]['shap_fi']"
   ]
  },
  {
   "cell_type": "markdown",
   "metadata": {},
   "source": [
    "## 1. Load data"
   ]
  },
  {
   "cell_type": "code",
   "execution_count": 3,
   "metadata": {},
   "outputs": [],
   "source": [
    "# Get lists of data by folds\n",
    "X_train_list = [pd.read_csv(path) for path in X_train_paths]\n",
    "y_train_list = [pd.read_csv(path) for path in y_train_paths]\n",
    "y_train_list = [y_train[TARGET].to_numpy() for y_train in y_train_list]\n",
    "\n",
    "X_val_list   = [pd.read_csv(path) for path in X_val_paths]\n",
    "y_val_list   = [pd.read_csv(path) for path in y_val_paths]\n",
    "y_val_list   = [y_val[TARGET].to_numpy() for y_val in y_val_list]"
   ]
  },
  {
   "cell_type": "markdown",
   "metadata": {},
   "source": [
    "## 2. Hyperparameters Tuning"
   ]
  },
  {
   "cell_type": "code",
   "execution_count": 4,
   "metadata": {},
   "outputs": [],
   "source": [
    "def objective(trial):    \n",
    "    param = {\n",
    "        'C'           : trial.suggest_float('C', 1e-3, 100),\n",
    "        'penalty'     : trial.suggest_categorical('penalty', ['l1', 'l2']),\n",
    "        'max_iter'    : trial.suggest_int('max_iter', 10, 2000),\n",
    "        'random_state': RANDOM_STATE,\n",
    "        'solver'      : 'liblinear',\n",
    "    }\n",
    "    \n",
    "    trainer = BaseTrainer(model=LogisticRegression(**param))\n",
    "    mean_metrics, *_ = trainer.perform_cross_validation(\n",
    "        X_train_list, y_train_list,\n",
    "        X_val_list, y_val_list,\n",
    "        verbose=0\n",
    "    )\n",
    "    avg = (mean_metrics.get('mean_accuracy') + mean_metrics.get('mean_f1_score') + mean_metrics.get('mean_roc_auc')) / 3\n",
    "    return avg"
   ]
  },
  {
   "cell_type": "code",
   "execution_count": 6,
   "metadata": {},
   "outputs": [
    {
     "data": {
      "text/plain": [
       "{'C': 26.073041770026837,\n",
       " 'penalty': 'l1',\n",
       " 'max_iter': 994,\n",
       " 'random_state': 42,\n",
       " 'solver': 'liblinear'}"
      ]
     },
     "execution_count": 6,
     "metadata": {},
     "output_type": "execute_result"
    }
   ],
   "source": [
    "HP_TUNING = False\n",
    "\n",
    "if HP_TUNING:\n",
    "    direction = 'maximize'\n",
    "    n_trials  = 500\n",
    "    n_jobs    = -1\n",
    "\n",
    "    study = optuna.create_study(direction=direction)\n",
    "    study.optimize(objective, n_trials=n_trials, n_jobs=n_jobs)\n",
    "\n",
    "    best_params = study.best_trial.params\n",
    "    best_params.update({\n",
    "        'random_state': RANDOM_STATE,\n",
    "        'solver'      : 'liblinear',\n",
    "    })\n",
    "else:\n",
    "    best_params = load_json(best_params_path)\n",
    "    \n",
    "best_params"
   ]
  },
  {
   "cell_type": "markdown",
   "metadata": {},
   "source": [
    "## 3. Train with 5-fold cross validation"
   ]
  },
  {
   "cell_type": "code",
   "execution_count": 7,
   "metadata": {},
   "outputs": [
    {
     "name": "stdout",
     "output_type": "stream",
     "text": [
      "Fold 1/5:\n",
      "\t- ACCURACY: 0.7636\n",
      "\t- ROC_AUC: 0.8640\n",
      "\t- F1_SCORE: 0.7347\n",
      "\t- MSE: 0.1651\n",
      "\t- PRECISION: 0.7500\n",
      "\t- RECALL: 0.7200\n",
      "\t- SPECIFICITY: 0.8000\n",
      "\n",
      "Fold 2/5:\n",
      "\t- ACCURACY: 0.8727\n",
      "\t- ROC_AUC: 0.9307\n",
      "\t- F1_SCORE: 0.8571\n",
      "\t- MSE: 0.1062\n",
      "\t- PRECISION: 0.8750\n",
      "\t- RECALL: 0.8400\n",
      "\t- SPECIFICITY: 0.9000\n",
      "\n",
      "Fold 3/5:\n",
      "\t- ACCURACY: 0.8182\n",
      "\t- ROC_AUC: 0.9027\n",
      "\t- F1_SCORE: 0.8000\n",
      "\t- MSE: 0.1203\n",
      "\t- PRECISION: 0.8000\n",
      "\t- RECALL: 0.8000\n",
      "\t- SPECIFICITY: 0.8333\n",
      "\n",
      "Fold 4/5:\n",
      "\t- ACCURACY: 0.7963\n",
      "\t- ROC_AUC: 0.8607\n",
      "\t- F1_SCORE: 0.7660\n",
      "\t- MSE: 0.1523\n",
      "\t- PRECISION: 0.8182\n",
      "\t- RECALL: 0.7200\n",
      "\t- SPECIFICITY: 0.8621\n",
      "\n",
      "Fold 5/5:\n",
      "\t- ACCURACY: 0.8148\n",
      "\t- ROC_AUC: 0.9048\n",
      "\t- F1_SCORE: 0.8077\n",
      "\t- MSE: 0.1291\n",
      "\t- PRECISION: 0.7778\n",
      "\t- RECALL: 0.8400\n",
      "\t- SPECIFICITY: 0.7931\n",
      "\n",
      "------------------------------\n",
      "\t- MEAN_ACCURACY: 0.8131\n",
      "\t- MEAN_ROC_AUC: 0.8926\n",
      "\t- MEAN_F1_SCORE: 0.7931\n",
      "\t- MEAN_MSE: 0.1346\n",
      "\t- MEAN_PRECISION: 0.8042\n",
      "\t- MEAN_RECALL: 0.7840\n",
      "\t- MEAN_SPECIFICITY: 0.8377\n"
     ]
    }
   ],
   "source": [
    "trainer = BaseTrainer(model=LogisticRegression(**best_params))\n",
    "mean_metrics, y_pred_list, y_pred_proba_list, fi_list = trainer.perform_cross_validation(\n",
    "    X_train_list=X_train_list,\n",
    "    y_train_list=y_train_list,\n",
    "    X_val_list=X_val_list,\n",
    "    y_val_list=y_val_list,\n",
    "    #model_path_list=model_path_list, # uncomment if you want to save newly trained models\n",
    "    verbose=1,\n",
    ")"
   ]
  },
  {
   "cell_type": "code",
   "execution_count": 8,
   "metadata": {},
   "outputs": [
    {
     "data": {
      "image/png": "[encoded data removed]",
      "text/plain": [
       "<Figure size 1000x1500 with 6 Axes>"
      ]
     },
     "metadata": {},
     "output_type": "display_data"
    }
   ],
   "source": [
    "plot_confusion_matrix_folds(\n",
    "    y_test_list=y_val_list,\n",
    "    y_pred_list=y_pred_list,\n",
    ")"
   ]
  },
  {
   "cell_type": "markdown",
   "metadata": {},
   "source": [
    "## 4. Get predictions"
   ]
  },
  {
   "cell_type": "code",
   "execution_count": 9,
   "metadata": {},
   "outputs": [
    {
     "name": "stdout",
     "output_type": "stream",
     "text": [
      "analyzed_df_aggregated.shape: (273, 23)\n"
     ]
    }
   ],
   "source": [
    "analyzed_dfs = []\n",
    "\n",
    "for fold in range(1, 6):\n",
    "    # Load data for the current fold\n",
    "    X_train, y_train, X_val, y_val = load_data_fold(fold)\n",
    "\n",
    "    # Load trained model for the current fold\n",
    "    model = load_model_fold(fold, model_name=model_name)\n",
    "\n",
    "    # Get predictions\n",
    "    y_pred = model.predict(X_val)\n",
    "    y_pred_proba = model.predict_proba(X_val)[:,-1]\n",
    "\n",
    "    # Add ground truths and predictions to the current df\n",
    "    analyzed_df = X_val.copy()\n",
    "    analyzed_df['Actual'] = y_val\n",
    "    analyzed_df['Predicted'] = y_pred\n",
    "    analyzed_df['Predicted_Proba'] = y_pred_proba\n",
    "    analyzed_dfs.append(analyzed_df)\n",
    "\n",
    "analyzed_df_aggregated = pd.concat(analyzed_dfs, axis=0).reset_index(drop=True)\n",
    "print(f'analyzed_df_aggregated.shape: {analyzed_df_aggregated.shape}')\n",
    "\n",
    "# analyzed_df_aggregated.to_csv(pred_5folds_path, index=False)\n",
    "# print(f'Save df to {pred_5folds_path}')"
   ]
  },
  {
   "cell_type": "markdown",
   "metadata": {},
   "source": [
    "## 5. Explain with SHAP"
   ]
  },
  {
   "cell_type": "code",
   "execution_count": 10,
   "metadata": {},
   "outputs": [
    {
     "data": {
      "text/html": [
       "<div>\n",
       "<style scoped>\n",
       "    .dataframe tbody tr th:only-of-type {\n",
       "        vertical-align: middle;\n",
       "    }\n",
       "\n",
       "    .dataframe tbody tr th {\n",
       "        vertical-align: top;\n",
       "    }\n",
       "\n",
       "    .dataframe thead th {\n",
       "        text-align: right;\n",
       "    }\n",
       "</style>\n",
       "<table border=\"1\" class=\"dataframe\">\n",
       "  <thead>\n",
       "    <tr style=\"text-align: right;\">\n",
       "      <th></th>\n",
       "      <th>Feature</th>\n",
       "      <th>Importance</th>\n",
       "    </tr>\n",
       "  </thead>\n",
       "  <tbody>\n",
       "    <tr>\n",
       "      <th>0</th>\n",
       "      <td>Gender</td>\n",
       "      <td>0.361187</td>\n",
       "    </tr>\n",
       "    <tr>\n",
       "      <th>1</th>\n",
       "      <td>Age</td>\n",
       "      <td>0.246210</td>\n",
       "    </tr>\n",
       "    <tr>\n",
       "      <th>2</th>\n",
       "      <td>Schooling</td>\n",
       "      <td>0.660561</td>\n",
       "    </tr>\n",
       "    <tr>\n",
       "      <th>3</th>\n",
       "      <td>Breastfeeding</td>\n",
       "      <td>0.311755</td>\n",
       "    </tr>\n",
       "    <tr>\n",
       "      <th>4</th>\n",
       "      <td>Varicella</td>\n",
       "      <td>0.232185</td>\n",
       "    </tr>\n",
       "    <tr>\n",
       "      <th>5</th>\n",
       "      <td>Oligoclonal_Bands</td>\n",
       "      <td>0.682161</td>\n",
       "    </tr>\n",
       "    <tr>\n",
       "      <th>6</th>\n",
       "      <td>LLSSEP</td>\n",
       "      <td>0.256296</td>\n",
       "    </tr>\n",
       "    <tr>\n",
       "      <th>7</th>\n",
       "      <td>ULSSEP</td>\n",
       "      <td>0.146973</td>\n",
       "    </tr>\n",
       "    <tr>\n",
       "      <th>8</th>\n",
       "      <td>VEP</td>\n",
       "      <td>0.302227</td>\n",
       "    </tr>\n",
       "    <tr>\n",
       "      <th>9</th>\n",
       "      <td>BAEP</td>\n",
       "      <td>0.183093</td>\n",
       "    </tr>\n",
       "    <tr>\n",
       "      <th>10</th>\n",
       "      <td>Periventricular_MRI</td>\n",
       "      <td>1.048481</td>\n",
       "    </tr>\n",
       "    <tr>\n",
       "      <th>11</th>\n",
       "      <td>Cortical_MRI</td>\n",
       "      <td>0.224801</td>\n",
       "    </tr>\n",
       "    <tr>\n",
       "      <th>12</th>\n",
       "      <td>Infratentorial_MRI</td>\n",
       "      <td>0.825875</td>\n",
       "    </tr>\n",
       "    <tr>\n",
       "      <th>13</th>\n",
       "      <td>Spinal_Cord_MRI</td>\n",
       "      <td>0.195798</td>\n",
       "    </tr>\n",
       "    <tr>\n",
       "      <th>14</th>\n",
       "      <td>Symptom_Vision</td>\n",
       "      <td>0.568624</td>\n",
       "    </tr>\n",
       "    <tr>\n",
       "      <th>15</th>\n",
       "      <td>Symptom_Sensory</td>\n",
       "      <td>0.701037</td>\n",
       "    </tr>\n",
       "    <tr>\n",
       "      <th>16</th>\n",
       "      <td>Symptom_Motor</td>\n",
       "      <td>0.891170</td>\n",
       "    </tr>\n",
       "    <tr>\n",
       "      <th>17</th>\n",
       "      <td>Symptom_Other</td>\n",
       "      <td>0.754519</td>\n",
       "    </tr>\n",
       "    <tr>\n",
       "      <th>18</th>\n",
       "      <td>Mono_Symptomatic</td>\n",
       "      <td>1.273658</td>\n",
       "    </tr>\n",
       "    <tr>\n",
       "      <th>19</th>\n",
       "      <td>Poly_Symptomatic</td>\n",
       "      <td>0.459977</td>\n",
       "    </tr>\n",
       "  </tbody>\n",
       "</table>\n",
       "</div>"
      ],
      "text/plain": [
       "                Feature  Importance\n",
       "0                Gender    0.361187\n",
       "1                   Age    0.246210\n",
       "2             Schooling    0.660561\n",
       "3         Breastfeeding    0.311755\n",
       "4             Varicella    0.232185\n",
       "5     Oligoclonal_Bands    0.682161\n",
       "6                LLSSEP    0.256296\n",
       "7                ULSSEP    0.146973\n",
       "8                   VEP    0.302227\n",
       "9                  BAEP    0.183093\n",
       "10  Periventricular_MRI    1.048481\n",
       "11         Cortical_MRI    0.224801\n",
       "12   Infratentorial_MRI    0.825875\n",
       "13      Spinal_Cord_MRI    0.195798\n",
       "14       Symptom_Vision    0.568624\n",
       "15      Symptom_Sensory    0.701037\n",
       "16        Symptom_Motor    0.891170\n",
       "17        Symptom_Other    0.754519\n",
       "18     Mono_Symptomatic    1.273658\n",
       "19     Poly_Symptomatic    0.459977"
      ]
     },
     "execution_count": 10,
     "metadata": {},
     "output_type": "execute_result"
    }
   ],
   "source": [
    "import shap\n",
    "\n",
    "models = [load_model_fold(fold+1, model_name) for fold in range(5)]\n",
    "shap_values_folds = []\n",
    "\n",
    "for fold in range(5):\n",
    "    model = models[fold]\n",
    "    X_train = X_train_list[fold]\n",
    "    X_val = X_val_list[fold]\n",
    "\n",
    "    explainer = shap.LinearExplainer(model, X_train)\n",
    "    shap_values_fold = explainer.shap_values(X_val)\n",
    "    mean_shap_values_fold = np.mean(np.abs(shap_values_fold), axis=0)\n",
    "    shap_values_folds.append(mean_shap_values_fold)\n",
    "\n",
    "# Aggregate SHAP values across folds\n",
    "aggregated_shap_values = np.mean(shap_values_folds, axis=0)\n",
    "\n",
    "# Calculate mean absolute SHAP values for feature importance\n",
    "feature_names = X_val_list[0].columns.to_list()\n",
    "shap_feature_importance = pd.DataFrame({\n",
    "    'Feature': feature_names,\n",
    "    'Importance': aggregated_shap_values\n",
    "})\n",
    "\n",
    "# Sort by importance\n",
    "#shap_feature_importance.sort_values(by='Importance', ascending=False, inplace=True)\n",
    "shap_feature_importance.to_csv(shap_fi_path, index=False)\n",
    "shap_feature_importance"
   ]
  },
  {
   "cell_type": "code",
   "execution_count": null,
   "metadata": {},
   "outputs": [],
   "source": []
  }
 ],
 "metadata": {
  "kernelspec": {
   "display_name": "CIStoMS-unnWL7U8",
   "language": "python",
   "name": "python3"
  },
  "language_info": {
   "codemirror_mode": {
    "name": "ipython",
    "version": 3
   },
   "file_extension": ".py",
   "mimetype": "text/x-python",
   "name": "python",
   "nbconvert_exporter": "python",
   "pygments_lexer": "ipython3",
   "version": "3.10.12"
  }
 },
 "nbformat": 4,
 "nbformat_minor": 2
}
