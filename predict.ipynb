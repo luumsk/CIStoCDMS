{
 "cells": [
  {
   "cell_type": "code",
   "execution_count": 1,
   "metadata": {},
   "outputs": [],
   "source": [
    "from catboost import CatBoostClassifier\n",
    "from xgboost import XGBClassifier\n",
    "from lightgbm import LGBMClassifier\n",
    "from sklearn.ensemble import RandomForestClassifier\n",
    "from sklearn.svm import SVC\n",
    "from sklearn.linear_model import LogisticRegression\n",
    "\n",
    "from utils.preprocessing import *\n",
    "from utils.visualization import *\n",
    "from utils.trainer import *\n",
    "from utils.config import *\n",
    "from utils.helpers import *"
   ]
  },
  {
   "cell_type": "code",
   "execution_count": 2,
   "metadata": {},
   "outputs": [],
   "source": [
    "# Get lists of data by folds\n",
    "X_train_list = [pd.read_csv(path) for path in X_train_paths]\n",
    "y_train_list = [pd.read_csv(path) for path in y_train_paths]\n",
    "y_train_list = [y_train[TARGET].to_numpy() for y_train in y_train_list]\n",
    "\n",
    "X_val_list   = [pd.read_csv(path) for path in X_val_paths]\n",
    "y_val_list   = [pd.read_csv(path) for path in y_val_paths]\n",
    "y_val_list   = [y_val[TARGET].to_numpy() for y_val in y_val_list]\n",
    "\n",
    "y_val_full = []\n",
    "for y_val_fold in y_val_list:\n",
    "    y_val_full.extend(y_val_fold)\n",
    "assert len(y_val_full) == 273"
   ]
  },
  {
   "cell_type": "code",
   "execution_count": 3,
   "metadata": {},
   "outputs": [],
   "source": [
    "model_names = ['catboost', 'xgboost', 'lgbm', 'rf', 'svm', 'lr']\n",
    "n_folds = 5"
   ]
  },
  {
   "cell_type": "code",
   "execution_count": 4,
   "metadata": {},
   "outputs": [],
   "source": [
    "# Get metrics for all models accross all folds\n",
    "pred_dict = {}\n",
    "pred_proba_dict = {}\n",
    "metric_dict = {}\n",
    "\n",
    "for model_name in model_names:\n",
    "    pred_list = []\n",
    "    pred_proba_list = []\n",
    "\n",
    "    for fold in range(n_folds):\n",
    "        # Load data for the current fold\n",
    "        X_train, y_train, X_val, y_val = load_data_fold(fold+1)\n",
    "\n",
    "        # Load trained model for the current fold\n",
    "        model = load_model_fold(fold+1, model_name=model_name)\n",
    "\n",
    "        # Get predictions for the current fold\n",
    "        y_pred = model.predict(X_val)\n",
    "        y_pred_proba = model.predict_proba(X_val)[:,-1]\n",
    "\n",
    "        pred_list.extend(y_pred)\n",
    "        pred_proba_list.extend(y_pred_proba)\n",
    "    \n",
    "    # Save predictions for this model\n",
    "    pred_dict[model_name] = pred_list\n",
    "    pred_proba_dict[model_name] = pred_proba_list\n",
    "\n",
    "    # Save metrics for this model\n",
    "    metric_dict[model_name] = calculate_metrics(y_val_full, pred_list, pred_proba_list)"
   ]
  },
  {
   "cell_type": "code",
   "execution_count": 5,
   "metadata": {},
   "outputs": [],
   "source": [
    "#save_json('data/metrics.json', metric_dict)"
   ]
  },
  {
   "cell_type": "code",
   "execution_count": null,
   "metadata": {},
   "outputs": [],
   "source": []
  }
 ],
 "metadata": {
  "kernelspec": {
   "display_name": "CIStoCDMS-fgf1c-B4",
   "language": "python",
   "name": "python3"
  },
  "language_info": {
   "codemirror_mode": {
    "name": "ipython",
    "version": 3
   },
   "file_extension": ".py",
   "mimetype": "text/x-python",
   "name": "python",
   "nbconvert_exporter": "python",
   "pygments_lexer": "ipython3",
   "version": "3.10.12"
  }
 },
 "nbformat": 4,
 "nbformat_minor": 2
}
